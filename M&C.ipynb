{
 "cells": [
  {
   "cell_type": "code",
   "execution_count": null,
   "metadata": {},
   "outputs": [],
   "source": [
    "import pandas as pd\n",
    "df = pd.read_csv(r\"C:\\Users\\Othuke Ajaye\\Documents\\m&c.csv\", encoding='latin1')\n",
    "df"
   ]
  },
  {
   "cell_type": "code",
   "execution_count": null,
   "metadata": {},
   "outputs": [],
   "source": [
    "#NLTK\n",
    "from nltk.sentiment import SentimentIntensityAnalyzer\n",
    "sentiment_nltk = SentimentIntensityAnalyzer()\n",
    "df['nltk'] =  df['contact_enquiry'].astype(str).apply(lambda x: sentiment_nltk.polarity_scores(x)[\"compound\"])\n",
    "df['nltk_tag'] = df['nltk'].apply(lambda x: 'Enquiry' if x >=0 else \"Complaints\")"
   ]
  },
  {
   "cell_type": "code",
   "execution_count": null,
   "metadata": {},
   "outputs": [],
   "source": [
    "#TEXT BLOB\n",
    "from textblob import TextBlob\n",
    "df['textblob'] = df['contact_enquiry'].apply(lambda x: TextBlob(str(x)).sentiment.polarity)\n",
    "df['textblob_tag'] = df['textblob'].apply(lambda x: 'Enquiry' if x >=0 else \"Complaints\")"
   ]
  },
  {
   "cell_type": "code",
   "execution_count": null,
   "metadata": {
    "scrolled": true
   },
   "outputs": [],
   "source": [
    "#FLAIR\n",
    "from flair.models import TextClassifier\n",
    "from flair.data import Sentence\n",
    "\n",
    "sentiment_flair = TextClassifier.load('en-sentiment')\n",
    "def flair_prediction(x):\n",
    "    sentence = Sentence(x)\n",
    "    sentiment_flair.predict(sentence)\n",
    "    score = sentence.labels[0]\n",
    "    if \"NEGATIVE\" in str(score):\n",
    "        return \"Complaint\"\n",
    "    else:\n",
    "        return \"Enquiry\"\n",
    "    \n",
    "df[\"flair\"] = df['contact_enquiry'].astype(str).apply(flair_prediction)\n"
   ]
  },
  {
   "cell_type": "code",
   "execution_count": null,
   "metadata": {},
   "outputs": [],
   "source": [
    "df.to_csv('annotated.csv')"
   ]
  }
 ],
 "metadata": {
  "kernelspec": {
   "display_name": "Python 3",
   "language": "python",
   "name": "python3"
  },
  "language_info": {
   "codemirror_mode": {
    "name": "ipython",
    "version": 3
   },
   "file_extension": ".py",
   "mimetype": "text/x-python",
   "name": "python",
   "nbconvert_exporter": "python",
   "pygments_lexer": "ipython3",
   "version": "3.8.8"
  }
 },
 "nbformat": 4,
 "nbformat_minor": 4
}
